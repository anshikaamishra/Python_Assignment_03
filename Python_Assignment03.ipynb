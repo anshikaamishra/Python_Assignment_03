{
 "cells": [
  {
   "cell_type": "markdown",
   "id": "9b25d0c5-4c12-4ca5-8555-a248a08e96b0",
   "metadata": {},
   "source": [
    "## Python Assignment 03"
   ]
  },
  {
   "cell_type": "markdown",
   "id": "36ccf100-d877-426d-8895-5bb39c42f383",
   "metadata": {},
   "source": [
    "**Q1.  Explain with an example each when to use a for loop and a while loop.** "
   ]
  },
  {
   "cell_type": "markdown",
   "id": "7bb53d94-c9c6-4bfb-b90b-93c9a7fe0fd1",
   "metadata": {},
   "source": [
    "- A for loop is used when you have a sequence of elements such as a list or a tuple, and you want to iterate over each element in the sequence. For example, let's say you have a list of numbers and you want to print each number on a new line"
   ]
  },
  {
   "cell_type": "code",
   "execution_count": 1,
   "id": "72c877f0-e3e1-43fc-bccf-198615606689",
   "metadata": {},
   "outputs": [
    {
     "name": "stdout",
     "output_type": "stream",
     "text": [
      "1\n",
      "2\n",
      "3\n",
      "4\n",
      "5\n",
      "6\n"
     ]
    }
   ],
   "source": [
    "numbers = [1,2,3,4,5,6]\n",
    "for num in numbers:\n",
    "    print(num)"
   ]
  },
  {
   "cell_type": "markdown",
   "id": "070be012-bccd-47ea-bc7e-9fd5d171f720",
   "metadata": {},
   "source": [
    "- This code will iterate through the numbers list and print each number on a new line."
   ]
  },
  {
   "cell_type": "markdown",
   "id": "f7d57998-85da-4e88-ab7b-9a8998f0a344",
   "metadata": {},
   "source": [
    "- On the other hand, a while loop is used when you want to repeat a block of code until a certain condition is met. For example, let's say you want to keep asking a user to enter a number until they enter a number greater than 5:"
   ]
  },
  {
   "cell_type": "code",
   "execution_count": 2,
   "id": "3a429990-a786-4f49-9a4f-208f2573586a",
   "metadata": {},
   "outputs": [
    {
     "name": "stdin",
     "output_type": "stream",
     "text": [
      "Enter a number greater than 5:  1\n",
      "Enter a number greater than 5:  2\n",
      "Enter a number greater than 5:  4\n",
      "Enter a number greater than 5:  5\n",
      "Enter a number greater than 5:  6\n"
     ]
    }
   ],
   "source": [
    "num = 0\n",
    "while num <= 5:\n",
    "    num = int(input(\"Enter a number greater than 5: \"))"
   ]
  },
  {
   "cell_type": "markdown",
   "id": "20fa6c5b-cc10-4528-bb08-b168efbd4704",
   "metadata": {},
   "source": [
    "- This code will keep asking the user to enter a number until they enter a number greater than 5."
   ]
  },
  {
   "cell_type": "markdown",
   "id": "1a686908-3e36-4cf3-99c1-f930ddb8d94d",
   "metadata": {},
   "source": [
    "**Q2.  Write a python program to print the sum and product of the first 10 natural numbers using for and while loop.**"
   ]
  },
  {
   "cell_type": "code",
   "execution_count": 28,
   "id": "2e6277cb-0fa7-4533-a94a-014ffd18f0ce",
   "metadata": {},
   "outputs": [
    {
     "name": "stdout",
     "output_type": "stream",
     "text": [
      "The sum of first 10 natural numbers is: 55\n",
      "The sum of first 10 natural numbers is: 3628800\n"
     ]
    }
   ],
   "source": [
    "# Using for loop\n",
    "sum = 0\n",
    "product = 1\n",
    "\n",
    "for i in range(1, 11):\n",
    "    sum = sum + i\n",
    "    product = product * i\n",
    "print(f'The sum of first 10 natural numbers is: {sum}')\n",
    "print(f'The sum of first 10 natural numbers is: {product}')"
   ]
  },
  {
   "cell_type": "code",
   "execution_count": 30,
   "id": "15b61e1e-3807-4ac6-9840-023cce3407c7",
   "metadata": {},
   "outputs": [
    {
     "name": "stdout",
     "output_type": "stream",
     "text": [
      "The sum of first 10 natural numbers is: 55\n",
      "The sum of first 10 natural numbers is: 3628800\n"
     ]
    }
   ],
   "source": [
    "# Using while loop\n",
    "sum = 0\n",
    "product = 1\n",
    "a = 1\n",
    "\n",
    "while a <= 10 :\n",
    "    sum = sum + a\n",
    "    product = product * a\n",
    "    a += 1\n",
    "print(f'The sum of first 10 natural numbers is: {sum}')\n",
    "print(f'The sum of first 10 natural numbers is: {product}')"
   ]
  },
  {
   "cell_type": "markdown",
   "id": "3b4fa158-17ea-4ef3-b3a2-4fa118a3dc08",
   "metadata": {},
   "source": [
    "**Q3. Create a python program to compute the electricity bill for a household. \n",
    "The per-unit charges in rupees are as follows: For the first 100 units, the user will be charged Rs. 4.5 per  unit, for the next 100 units, the user will be charged Rs. 6 per unit, and for the next 100 units, the user will  be charged Rs. 10 per unit, After 300 units and above the user will be charged Rs. 20 per unit. \n",
    "You are required to take the units of electricity consumed in a month from the user as input. \n",
    "Your program must pass this test case: when the unit of electricity consumed by the user in a month is  310, the total electricity bill should be 2250.**"
   ]
  },
  {
   "cell_type": "code",
   "execution_count": 8,
   "id": "bb292d05-bec8-4c2a-8c04-199acf8fee2c",
   "metadata": {},
   "outputs": [
    {
     "name": "stdin",
     "output_type": "stream",
     "text": [
      "Enter the units of electricity consumed in a month:  310\n"
     ]
    },
    {
     "name": "stdout",
     "output_type": "stream",
     "text": [
      "Electricity bill: Rs. 2250.0\n"
     ]
    }
   ],
   "source": [
    "unit = int(input(\"Enter the units of electricity consumed in a month: \"))\n",
    "\n",
    "if unit <= 100:\n",
    "    bill = 100 * 4.5 \n",
    "elif unit <= 200:\n",
    "    bill = 100 * 4.5 + (unit - 100) * 6\n",
    "elif unit <= 300:\n",
    "    bill = 100 * 4.5 + 100 * 6 + (unit - 200) * 10\n",
    "else: \n",
    "    bill = 100 * 4.5 + 100 * 6 + 100 * 10 + (unit - 300) * 20\n",
    "    \n",
    "print(f'Electricity bill: Rs. {bill}')"
   ]
  },
  {
   "cell_type": "markdown",
   "id": "eadd4799-81a8-4638-ab49-9f64afa93966",
   "metadata": {},
   "source": [
    "**Q4. Create a list of numbers from 1 to 100. Use for loop and while loop to calculate the cube of each number and if the cube of that number is divisible by 4 or 5 then append that number in a list and print that list.**"
   ]
  },
  {
   "cell_type": "code",
   "execution_count": 14,
   "id": "96967adc-6137-4803-8287-2349f1211b37",
   "metadata": {},
   "outputs": [
    {
     "name": "stdout",
     "output_type": "stream",
     "text": [
      "[1, 2, 3, 4, 5, 6, 7, 8, 9, 10, 11, 12, 13, 14, 15, 16, 17, 18, 19, 20, 21, 22, 23, 24, 25, 26, 27, 28, 29, 30, 31, 32, 33, 34, 35, 36, 37, 38, 39, 40, 41, 42, 43, 44, 45, 46, 47, 48, 49, 50, 51, 52, 53, 54, 55, 56, 57, 58, 59, 60, 61, 62, 63, 64, 65, 66, 67, 68, 69, 70, 71, 72, 73, 74, 75, 76, 77, 78, 79, 80, 81, 82, 83, 84, 85, 86, 87, 88, 89, 90, 91, 92, 93, 94, 95, 96, 97, 98, 99, 100]\n"
     ]
    }
   ],
   "source": [
    "# Creating a list of 1 to 100 numbers using comprehension\n",
    "\n",
    "numbers = [i for i in range(1, 101)]\n",
    "print(numbers)"
   ]
  },
  {
   "cell_type": "code",
   "execution_count": 32,
   "id": "be4ffada-daa3-450a-b809-355695b1e10a",
   "metadata": {},
   "outputs": [
    {
     "name": "stdout",
     "output_type": "stream",
     "text": [
      "Numbers whose cube is divisible by 4 or 5 using for loop: [2, 4, 5, 6, 8, 10, 12, 14, 15, 16, 18, 20, 22, 24, 25, 26, 28, 30, 32, 34, 35, 36, 38, 40, 42, 44, 45, 46, 48, 50, 52, 54, 55, 56, 58, 60, 62, 64, 65, 66, 68, 70, 72, 74, 75, 76, 78, 80, 82, 84, 85, 86, 88, 90, 92, 94, 95, 96, 98, 100]\n"
     ]
    }
   ],
   "source": [
    "# Using for loop\n",
    "lcube = []\n",
    "\n",
    "for i in numbers:\n",
    "    cube = i ** 3\n",
    "    if cube % 4 == 0 or cube % 5 == 0:\n",
    "        lcube.append(i)\n",
    "print(\"Numbers whose cube is divisible by 4 or 5 using for loop:\", lcube)\n"
   ]
  },
  {
   "cell_type": "code",
   "execution_count": 34,
   "id": "502d5bb8-2b90-4834-9e1a-64a20135eb0d",
   "metadata": {},
   "outputs": [
    {
     "name": "stdout",
     "output_type": "stream",
     "text": [
      "Numbers whose cube is divisible by 4 or 5 using while loop: [2, 4, 5, 6, 8, 10, 12, 14, 15, 16, 18, 20, 22, 24, 25, 26, 28, 30, 32, 34, 35, 36, 38, 40, 42, 44, 45, 46, 48, 50, 52, 54, 55, 56, 58, 60, 62, 64, 65, 66, 68, 70, 72, 74, 75, 76, 78, 80, 82, 84, 85, 86, 88, 90, 92, 94, 95, 96, 98, 100]\n"
     ]
    }
   ],
   "source": [
    "# Using while loop\n",
    "lcube2 = []\n",
    "i = 1\n",
    "\n",
    "while i <= 100:\n",
    "    cube2 = i ** 3\n",
    "    if cube2 % 4 == 0 or cube2 % 5 == 0:\n",
    "        lcube2.append(i)\n",
    "    i += 1\n",
    "print(\"Numbers whose cube is divisible by 4 or 5 using while loop:\", lcube2)"
   ]
  },
  {
   "cell_type": "markdown",
   "id": "b1d80c89-0b6f-4880-8734-7685d56216b8",
   "metadata": {},
   "source": [
    "**Q5. Write a program to filter count vowels in the below-given string. \n",
    "string = \"I want to become a data scientist\"**"
   ]
  },
  {
   "cell_type": "code",
   "execution_count": 44,
   "id": "7175c1ed-2ce4-4ff7-9841-1a25cb4427c8",
   "metadata": {},
   "outputs": [
    {
     "name": "stdout",
     "output_type": "stream",
     "text": [
      "The string has 12 vowels: ['I', 'a', 'o', 'e', 'o', 'e', 'a', 'a', 'a', 'i', 'e', 'i']\n"
     ]
    }
   ],
   "source": [
    "string = \"I want to become a data scientist\"\n",
    "vowels = 'aeiouAEIOU'\n",
    "vowel = []\n",
    "\n",
    "# Filter and count the vowels in the string using a for loop\n",
    "for i in string:\n",
    "    if i in vowels :\n",
    "        vowel.append(i)\n",
    "\n",
    "# Print the count of vowels in the string       \n",
    "count = len(vowel)\n",
    "print(\"The string has\", count, \"vowels:\", vowel)"
   ]
  },
  {
   "cell_type": "code",
   "execution_count": null,
   "id": "49c7212d-e8ab-43bc-8c62-65e8733b2a18",
   "metadata": {},
   "outputs": [],
   "source": []
  }
 ],
 "metadata": {
  "kernelspec": {
   "display_name": "Python 3 (ipykernel)",
   "language": "python",
   "name": "python3"
  },
  "language_info": {
   "codemirror_mode": {
    "name": "ipython",
    "version": 3
   },
   "file_extension": ".py",
   "mimetype": "text/x-python",
   "name": "python",
   "nbconvert_exporter": "python",
   "pygments_lexer": "ipython3",
   "version": "3.10.8"
  }
 },
 "nbformat": 4,
 "nbformat_minor": 5
}
